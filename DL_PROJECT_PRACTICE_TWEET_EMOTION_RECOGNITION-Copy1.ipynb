{
 "cells": [
  {
   "cell_type": "markdown",
   "id": "8538c030",
   "metadata": {},
   "source": [
    "# TWEET EMOTION RECOGNITION WITH TENSORFLOW "
   ]
  },
  {
   "cell_type": "markdown",
   "id": "fff2187a",
   "metadata": {},
   "source": [
    "## 1]Setup and Imports"
   ]
  },
  {
   "cell_type": "code",
   "execution_count": 1,
   "id": "e753ab6c",
   "metadata": {},
   "outputs": [
    {
     "name": "stdout",
     "output_type": "stream",
     "text": [
      "Requirement already satisfied: nlp in c:\\users\\psrao\\anaconda3\\lib\\site-packages (0.4.0)\n",
      "Requirement already satisfied: requests>=2.19.0 in c:\\users\\psrao\\anaconda3\\lib\\site-packages (from nlp) (2.27.1)\n",
      "Requirement already satisfied: dill in c:\\users\\psrao\\anaconda3\\lib\\site-packages (from nlp) (0.3.6)\n",
      "Requirement already satisfied: pandas in c:\\users\\psrao\\anaconda3\\lib\\site-packages (from nlp) (1.4.2)\n",
      "Requirement already satisfied: numpy in c:\\users\\psrao\\anaconda3\\lib\\site-packages (from nlp) (1.21.5)\n",
      "Requirement already satisfied: xxhash in c:\\users\\psrao\\anaconda3\\lib\\site-packages (from nlp) (3.1.0)\n",
      "Requirement already satisfied: filelock in c:\\users\\psrao\\anaconda3\\lib\\site-packages (from nlp) (3.6.0)\n",
      "Requirement already satisfied: tqdm>=4.27 in c:\\users\\psrao\\anaconda3\\lib\\site-packages (from nlp) (4.64.0)\n",
      "Requirement already satisfied: pyarrow>=0.16.0 in c:\\users\\psrao\\anaconda3\\lib\\site-packages (from nlp) (10.0.0)\n",
      "Requirement already satisfied: idna<4,>=2.5 in c:\\users\\psrao\\anaconda3\\lib\\site-packages (from requests>=2.19.0->nlp) (3.3)\n",
      "Requirement already satisfied: certifi>=2017.4.17 in c:\\users\\psrao\\anaconda3\\lib\\site-packages (from requests>=2.19.0->nlp) (2021.10.8)\n",
      "Requirement already satisfied: urllib3<1.27,>=1.21.1 in c:\\users\\psrao\\anaconda3\\lib\\site-packages (from requests>=2.19.0->nlp) (1.26.9)\n",
      "Requirement already satisfied: charset-normalizer~=2.0.0 in c:\\users\\psrao\\anaconda3\\lib\\site-packages (from requests>=2.19.0->nlp) (2.0.4)\n",
      "Requirement already satisfied: colorama in c:\\users\\psrao\\anaconda3\\lib\\site-packages (from tqdm>=4.27->nlp) (0.4.4)\n",
      "Requirement already satisfied: python-dateutil>=2.8.1 in c:\\users\\psrao\\anaconda3\\lib\\site-packages (from pandas->nlp) (2.8.2)\n",
      "Requirement already satisfied: pytz>=2020.1 in c:\\users\\psrao\\anaconda3\\lib\\site-packages (from pandas->nlp) (2021.3)\n",
      "Requirement already satisfied: six>=1.5 in c:\\users\\psrao\\anaconda3\\lib\\site-packages (from python-dateutil>=2.8.1->pandas->nlp) (1.16.0)\n"
     ]
    }
   ],
   "source": [
    "#Installing Hugging Face's nlp package\n",
    "!pip install nlp"
   ]
  },
  {
   "cell_type": "code",
   "execution_count": 2,
   "id": "45f05268",
   "metadata": {},
   "outputs": [],
   "source": [
    "#Importing Libraries\n",
    "%matplotlib inline\n",
    "\n",
    "import tensorflow as tf\n",
    "import numpy as np\n",
    "import matplotlib.pyplot as plt\n",
    "import nlp\n",
    "import random"
   ]
  },
  {
   "cell_type": "code",
   "execution_count": 3,
   "id": "df4b343c",
   "metadata": {},
   "outputs": [
    {
     "name": "stdout",
     "output_type": "stream",
     "text": [
      "Using TensorFlow version 2.10.0\n"
     ]
    }
   ],
   "source": [
    "# Version of TensorFlow used in this project\n",
    "print('Using TensorFlow version', tf.__version__)"
   ]
  },
  {
   "cell_type": "markdown",
   "id": "59c4ffa6",
   "metadata": {},
   "source": [
    "## 2]Importing Data"
   ]
  },
  {
   "cell_type": "markdown",
   "id": "3c259708",
   "metadata": {},
   "source": [
    "### Importing the Tweet Emotion dataset"
   ]
  },
  {
   "cell_type": "code",
   "execution_count": 4,
   "id": "7d62749c",
   "metadata": {},
   "outputs": [
    {
     "name": "stderr",
     "output_type": "stream",
     "text": [
      "Using custom data configuration default\n"
     ]
    }
   ],
   "source": [
    "#Importing the Tweet Emotion dataset from hugging faces nlp package to object named 'dataset'\n",
    "dataset = nlp.load_dataset('emotion')"
   ]
  },
  {
   "cell_type": "markdown",
   "id": "99f9d24a",
   "metadata": {},
   "source": [
    "**About dataset 'emotion':-**\n",
    "- **It is a .pkl file(python pickle file)**\n",
    "    - **A Python pickle file serializes a tuple of two numpy arrays, (feature, label)**\n",
    "    - **Pickling helps in serializing and deserializing a python object structure**\n",
    "    - **Pickle serializes the object (persist the object state) before writing to disk** \n",
    "    - **It basically converts the object into a character stream.By using the character stream we can restore the object state wherever and whenver we need it.**\n",
    "    - **cpickle is the optimized version written in c, 1000 times faster than pickle.**\n",
    "- **This dataset is available on kaggle as text file**"
   ]
  },
  {
   "cell_type": "code",
   "execution_count": 5,
   "id": "5bf49e3d",
   "metadata": {},
   "outputs": [
    {
     "data": {
      "text/plain": [
       "{'train': Dataset(features: {'text': Value(dtype='string', id=None), 'label': Value(dtype='string', id=None)}, num_rows: 16000),\n",
       " 'validation': Dataset(features: {'text': Value(dtype='string', id=None), 'label': Value(dtype='string', id=None)}, num_rows: 2000),\n",
       " 'test': Dataset(features: {'text': Value(dtype='string', id=None), 'label': Value(dtype='string', id=None)}, num_rows: 2000)}"
      ]
     },
     "execution_count": 5,
     "metadata": {},
     "output_type": "execute_result"
    }
   ],
   "source": [
    "#Displaying the dataset\n",
    "dataset"
   ]
  },
  {
   "cell_type": "code",
   "execution_count": 6,
   "id": "49c4f11c",
   "metadata": {},
   "outputs": [],
   "source": [
    "#The above dataset is already divided into train,validation and test sets\n",
    "#Every set contains features(coloumns) such as text(tweets) and labels(emotions)\n",
    "#We have 1600,2000 and 2000 examples in train,validation and test sets respectively'text' and 'label' to objects tweets and labels respectively"
   ]
  },
  {
   "cell_type": "markdown",
   "id": "d11a6739",
   "metadata": {},
   "source": [
    "- **Train set:** The sample of data used to train/fit the model.\n",
    "- **Validation set:** A set of examples(held back from training) used to tune the parameters of a classifier, for example to choose the number of hidden units in a neural network.\n",
    "    -  validation set is a sample of data held back from training your model that is used to give an estimate of model skill while tuning model’s hyperparameters.\n",
    "- **Test set:** A set of examples used only to assess the performance of a fully-specified classifier\n",
    "\n",
    "**<U>DIFFERENCE BETWEEN TEST AND VALIDATION SET:-</U>**<BR>\n",
    "**The validation dataset is different from the test dataset that is also held back from the training of the model, but is instead used to give an unbiased estimate of the skill of the final tuned model when comparing or selecting between final models.**"
   ]
  },
  {
   "cell_type": "markdown",
   "id": "d25d1841",
   "metadata": {},
   "source": [
    "### Creating train, validation and test sets"
   ]
  },
  {
   "cell_type": "code",
   "execution_count": 7,
   "id": "1f87dc6e",
   "metadata": {},
   "outputs": [],
   "source": [
    "#Accesing train set from object dataset into a object called as 'train_set'\n",
    "train_set=dataset['train']\n",
    "#Now we have train set seperately in an object train_set"
   ]
  },
  {
   "cell_type": "code",
   "execution_count": 8,
   "id": "0511a78e",
   "metadata": {},
   "outputs": [],
   "source": [
    "#Accesing validation set from object dataset into a object called as 'val_set'\n",
    "val_set=dataset['validation']\n",
    "#Now we have validation set seperately in an object val_set"
   ]
  },
  {
   "cell_type": "code",
   "execution_count": 9,
   "id": "7cca7bcf",
   "metadata": {},
   "outputs": [],
   "source": [
    "#Accesing test set from object dataset into a object called as 'test_set'\n",
    "test_set=dataset['test']\n",
    "#Now we have test set seperately in an object test_set"
   ]
  },
  {
   "cell_type": "markdown",
   "id": "f0414e7f",
   "metadata": {},
   "source": [
    "### Extracting tweets and labels from the examples"
   ]
  },
  {
   "cell_type": "code",
   "execution_count": 10,
   "id": "e3262f30",
   "metadata": {
    "colab": {},
    "colab_type": "code",
    "id": "oDYXMfZy5eiP"
   },
   "outputs": [],
   "source": [
    "# We created a function 'get_tweets'(can be named anything as its our own created function)\n",
    "# We created function 'get_tweets' to access features 'text' and 'label' to objects tweets and labels respectively\n",
    "#We created this function inorder to save time as acessing features for train_set,val_set,test_set is a same repeated task\n",
    "# We passed 'get_tweets' as a example object on which our requirements run.\n",
    "#If we call the function after creation on another dataframe or object it will do all the requirements and applications on that too. \n",
    "def get_tweets(data):\n",
    "    tweets = [x['text'] for x in data]\n",
    "    labels = [x['label'] for x in data]\n",
    "    return tweets, labels"
   ]
  },
  {
   "cell_type": "code",
   "execution_count": 11,
   "id": "fa9a60c2",
   "metadata": {
    "colab": {},
    "colab_type": "code",
    "id": "jeq3-vSB5eiR"
   },
   "outputs": [],
   "source": [
    "#Accesing features 'text' and 'label' to objects tweets_train and labels_train respectively from train_set\n",
    "tweets_train, labels_train = get_tweets(train_set)"
   ]
  },
  {
   "cell_type": "code",
   "execution_count": 12,
   "id": "d3e1b6f9",
   "metadata": {
    "colab": {
     "base_uri": "https://localhost:8080/",
     "height": 50
    },
    "colab_type": "code",
    "id": "bHD3Tk0J5eiU",
    "outputId": "fef2a4a6-885e-4b9b-f0fa-703f25d5fb0d"
   },
   "outputs": [
    {
     "data": {
      "text/plain": [
       "('i didnt feel humiliated', 'sadness')"
      ]
     },
     "execution_count": 12,
     "metadata": {},
     "output_type": "execute_result"
    }
   ],
   "source": [
    "#Displaying 0th index elaements in both features of train_set\n",
    "tweets_train[0], labels_train[0]"
   ]
  },
  {
   "cell_type": "code",
   "execution_count": 13,
   "id": "91da17e9",
   "metadata": {},
   "outputs": [],
   "source": [
    "#Accesing features 'text' and 'label' to objects tweets_val and labels_val respectively from val_set\n",
    "tweets_val, labels_val = get_tweets(val_set)"
   ]
  },
  {
   "cell_type": "code",
   "execution_count": 14,
   "id": "7bfeb97f",
   "metadata": {
    "colab": {
     "base_uri": "https://localhost:8080/",
     "height": 50
    },
    "colab_type": "code",
    "id": "bHD3Tk0J5eiU",
    "outputId": "fef2a4a6-885e-4b9b-f0fa-703f25d5fb0d"
   },
   "outputs": [
    {
     "data": {
      "text/plain": [
       "('im feeling quite sad and sorry for myself but ill snap out of it soon',\n",
       " 'sadness')"
      ]
     },
     "execution_count": 14,
     "metadata": {},
     "output_type": "execute_result"
    }
   ],
   "source": [
    "#Displaying 0th index elaements in both features of val_set\n",
    "tweets_val[0], labels_val[0]"
   ]
  },
  {
   "cell_type": "code",
   "execution_count": 15,
   "id": "adc1551f",
   "metadata": {},
   "outputs": [],
   "source": [
    "#Accesing features 'text' and 'label' to objects tweets_test and labels_test respectively from test_set\n",
    "tweets_test, labels_test = get_tweets(test_set)"
   ]
  },
  {
   "cell_type": "code",
   "execution_count": 16,
   "id": "27ac6c04",
   "metadata": {
    "colab": {
     "base_uri": "https://localhost:8080/",
     "height": 50
    },
    "colab_type": "code",
    "id": "bHD3Tk0J5eiU",
    "outputId": "fef2a4a6-885e-4b9b-f0fa-703f25d5fb0d"
   },
   "outputs": [
    {
     "data": {
      "text/plain": [
       "('im feeling rather rotten so im not very ambitious right now', 'sadness')"
      ]
     },
     "execution_count": 16,
     "metadata": {},
     "output_type": "execute_result"
    }
   ],
   "source": [
    "#Displaying 0th index elaements in both features of test_set\n",
    "tweets_test[0], labels_test[0]"
   ]
  },
  {
   "cell_type": "markdown",
   "id": "bba3cdf4",
   "metadata": {},
   "source": [
    "## 3]Tokenization of tweets"
   ]
  },
  {
   "cell_type": "code",
   "execution_count": 17,
   "id": "584857cc",
   "metadata": {},
   "outputs": [],
   "source": [
    "#Importing inbuilt Tokenizer from text preprocessing module from tensorflow \n",
    "from tensorflow.keras.preprocessing.text import Tokenizer"
   ]
  },
  {
   "cell_type": "code",
   "execution_count": 18,
   "id": "0ee8aa3e",
   "metadata": {},
   "outputs": [],
   "source": [
    "#Creating an object tokenizer(We can keep any name) to use Tokenizer() method\n",
    "#We specified num_words=10000 in Tokenizer() means we only use ten thousand most frequent unique words in corpus to be tokenized\n",
    "#oov_token means out of vocabulary words\n",
    "#We specified oov_token='<UNK>' in Tokenizer() means rest of words other than 10000 most frequent words will be specified as out of vocabulary tokens\n",
    "#These out of vocabulary words have the same token given as specified string '<UNK>' (unknown)\n",
    "tokenizer = Tokenizer(num_words=10000, oov_token='<UNK>')\n",
    "#Using the created object tokenizer to convert the corpus tweets_train having tweets of train set to sparse matrix stored in object 'count_matrix'(can keep any name)\n",
    "count_matrix=tokenizer.fit_on_texts(tweets_train)"
   ]
  },
  {
   "cell_type": "code",
   "execution_count": 19,
   "id": "5493b6de",
   "metadata": {},
   "outputs": [],
   "source": [
    "#So there will be sequences formed present in sparse matrix stored in 'count_matrix'"
   ]
  },
  {
   "cell_type": "markdown",
   "id": "4ddf0415",
   "metadata": {},
   "source": [
    "## 4]Padding and Truncating Sequences"
   ]
  },
  {
   "cell_type": "markdown",
   "id": "982c9cfa",
   "metadata": {},
   "source": [
    "##### Different tweets are of different lengths. But inorder to create a model for them they need to be in a fixed input shape. So we will calculate their lenths now and do padding,truncating to them if needed to get them into a fixed input shape"
   ]
  },
  {
   "cell_type": "markdown",
   "id": "2c243ad6",
   "metadata": {},
   "source": [
    "#### Calculating length of the tweets in train set 'tweets_train' "
   ]
  },
  {
   "cell_type": "code",
   "execution_count": 20,
   "id": "0e6430a6",
   "metadata": {},
   "outputs": [],
   "source": [
    "# There will be many words in tweets of tweets_train\n",
    "# We are iterating over every word in tweets_train using for loop and make the words seperate from eachother using split() method using space(' ') string as parameter in paranthesis\n",
    "#t.split(' ') splits the 't' no.of words seperate from eachother using space as string in between them\n",
    "#len() method used on the seperated words to calculate number of words or length of tweets.\n",
    "lengths = [len(t.split(' ')) for t in tweets_train]"
   ]
  },
  {
   "cell_type": "code",
   "execution_count": 21,
   "id": "e213447e",
   "metadata": {},
   "outputs": [
    {
     "data": {
      "image/png": "[encoded data removed]",
      "text/plain": [
       "<Figure size 432x288 with 1 Axes>"
      ]
     },
     "metadata": {
      "needs_background": "light"
     },
     "output_type": "display_data"
    }
   ],
   "source": [
    "# Plotting Histogram for the length of tweets calculated\n",
    "plt.hist(lengths, bins=len(set(lengths)))\n",
    "plt.show()"
   ]
  },
  {
   "cell_type": "markdown",
   "id": "1408a434",
   "metadata": {},
   "source": [
    "#### Observations from the above graph:-\n",
    "- **Most of the tweets have their lengths between 10 and 20**\n",
    "- **There are very few tweets of length more than 50**"
   ]
  },
  {
   "cell_type": "markdown",
   "id": "365c6164",
   "metadata": {},
   "source": [
    "- **Let's truncate tweets of length greater than 50 as there are very few which makes it very minor and not very useful for results and obsevation**\n",
    "- **Tweets with length less than 50 will be padded with zero '0' to get all the tweets to be of length 50**"
   ]
  },
  {
   "cell_type": "markdown",
   "id": "dbf8cdd6",
   "metadata": {},
   "source": [
    "#### Creating padded sequences"
   ]
  },
  {
   "cell_type": "code",
   "execution_count": 22,
   "id": "a84793af",
   "metadata": {},
   "outputs": [],
   "source": [
    "# Importing pad_sequences from sequence preprocessing of keras tensorflow\n",
    "from tensorflow.keras.preprocessing.sequence import pad_sequences"
   ]
  },
  {
   "cell_type": "code",
   "execution_count": 23,
   "id": "bb8e87d0",
   "metadata": {
    "colab": {},
    "colab_type": "code",
    "id": "Q9J_Iemf5eiq"
   },
   "outputs": [],
   "source": [
    "# We created a function 'get_sequences'(can be named anything as its our own created function)\n",
    "# We created function 'get_sequences' to get padded sequences.\n",
    "# First we get sequences(tokenized format of text in lists) and store it in object sequences by using tokenizer object\n",
    "# Then we will use 'pad_sequences()' method to pad the sequences stored in object 'sequences' \n",
    "#We created this function inorder to save time as getting sequences from set,val_set,test_set  and padding them is a same repeated task\n",
    "# We passed 'tweets' as a example object on which our requirements run.\n",
    "#If we call the function after creation on another dataframe or object it will do all the requirements and applications on that too. \n",
    "def get_sequences(tweets):\n",
    "    sequences = tokenizer.texts_to_sequences(tweets)\n",
    "    # maxlen=50 means highest lenth allowed is 50\n",
    "    #Post truncating is used then the tweets length>50 will be truncated/chopped to length 50 at from the end\n",
    "    #Post padding is used means the tweets will be padded zero at the end\n",
    "    padded_sequences = pad_sequences(sequences, truncating='post', maxlen=50, padding='post')\n",
    "    return padded_sequences"
   ]
  },
  {
   "cell_type": "code",
   "execution_count": 24,
   "id": "f6c03452",
   "metadata": {
    "colab": {},
    "colab_type": "code",
    "id": "eglH77ky5ei0"
   },
   "outputs": [],
   "source": [
    "#Using created function 'get_sequences' to get padded sequences from 'tweets_train'\n",
    "padded_train_seq = get_sequences(tweets_train)"
   ]
  },
  {
   "cell_type": "code",
   "execution_count": 25,
   "id": "a80c84de",
   "metadata": {},
   "outputs": [
    {
     "data": {
      "text/plain": [
       "array([  2, 139,   3, 679,   0,   0,   0,   0,   0,   0,   0,   0,   0,\n",
       "         0,   0,   0,   0,   0,   0,   0,   0,   0,   0,   0,   0,   0,\n",
       "         0,   0,   0,   0,   0,   0,   0,   0,   0,   0,   0,   0,   0,\n",
       "         0,   0,   0,   0,   0,   0,   0,   0,   0,   0,   0])"
      ]
     },
     "execution_count": 25,
     "metadata": {},
     "output_type": "execute_result"
    }
   ],
   "source": [
    "# Displaying 0th index element of all the padded sequences in padded_train_seq\n",
    "padded_train_seq[0]"
   ]
  },
  {
   "cell_type": "markdown",
   "id": "88d6a6e6",
   "metadata": {},
   "source": [
    "## 5]Preparing the Labels"
   ]
  },
  {
   "cell_type": "code",
   "execution_count": 26,
   "id": "07143705",
   "metadata": {
    "colab": {
     "base_uri": "https://localhost:8080/",
     "height": 34
    },
    "colab_type": "code",
    "id": "SufT2bpD5ejE",
    "outputId": "3b0ff532-55b7-45b8-8498-040b86029789"
   },
   "outputs": [],
   "source": [
    "#We created a set to labels_train as we know that set contains unique elements only.\n",
    "#There will be many tweets having same class.So inorder to get the unique classes without duplication we created a set\n",
    "#the created set is stored in object 'classes'\n",
    "classes = set(labels_train)"
   ]
  },
  {
   "cell_type": "code",
   "execution_count": 27,
   "id": "520900d4",
   "metadata": {},
   "outputs": [
    {
     "name": "stdout",
     "output_type": "stream",
     "text": [
      "{'anger', 'surprise', 'sadness', 'fear', 'joy', 'love'}\n"
     ]
    }
   ],
   "source": [
    "#Displaying all the classes present in labels_train\n",
    "print(classes)"
   ]
  },
  {
   "cell_type": "code",
   "execution_count": 28,
   "id": "c0856be9",
   "metadata": {},
   "outputs": [],
   "source": [
    "#From the above printed classes. We know that there are six classes(emotions) present in the training set"
   ]
  },
  {
   "cell_type": "code",
   "execution_count": 29,
   "id": "2060e795",
   "metadata": {
    "colab": {
     "base_uri": "https://localhost:8080/",
     "height": 265
    },
    "colab_type": "code",
    "id": "rpwzL88I7YSm",
    "outputId": "df513fa4-49a3-435c-f57d-3ad6715a1583"
   },
   "outputs": [
    {
     "data": {
      "image/png": "[encoded data removed]",
      "text/plain": [
       "<Figure size 432x288 with 1 Axes>"
      ]
     },
     "metadata": {
      "needs_background": "light"
     },
     "output_type": "display_data"
    }
   ],
   "source": [
    "#Plotting histogram of labels_train to display all classes\n",
    "plt.hist(labels_train, bins=11)\n",
    "plt.show()"
   ]
  },
  {
   "cell_type": "markdown",
   "id": "82012818",
   "metadata": {},
   "source": [
    "**<u>Observations from the above histogram:-</u>**\n",
    "- **From the above histogram we can say that sadness and joy are the major classes**\n",
    "- **love,anger and suprise are minor classes**\n",
    "- **This shows class imbalance problem**\n",
    "- **We can solve it by using different undersampling and oversampling methods**"
   ]
  },
  {
   "cell_type": "code",
   "execution_count": 30,
   "id": "93ce5115",
   "metadata": {},
   "outputs": [],
   "source": [
    "# Here dictionaries are created because we can get key-value pairs in dictionaries\n",
    "# We can apply it here to make name of classes and their corresponding numeric values as key-value pairs."
   ]
  },
  {
   "cell_type": "markdown",
   "id": "9e7c6d67",
   "metadata": {},
   "source": [
    "**enumerate():-The enumerate() function adds a counter as the key of the enumerate object.**\n",
    "- **Syntax:-enumerate(iterable, start)**\n",
    "    - **iterable- is an iterable object(Ex-tuples,set,lists,...)**\n",
    "    - **start-A Number. Defining the start number of the enumerate object. Default 0**\n",
    "- **The returned object will be an enumerate object in tuple form**\n",
    "- **Exapmle:-**\n",
    "      x = ('apple', 'banana', 'cherry')\n",
    "      y = enumerate(x)\n",
    "      print(list(y)\n",
    "     **Output:-** [(0, 'apple'), (1, 'banana'), (2, 'cherry')]<br>\n",
    "    **From the above output we can say that every element has a counter index/key added in a tuple format**"
   ]
  },
  {
   "cell_type": "code",
   "execution_count": 31,
   "id": "7bee4523",
   "metadata": {},
   "outputs": [
    {
     "name": "stdout",
     "output_type": "stream",
     "text": [
      "[(0, 'anger'), (1, 'surprise'), (2, 'sadness'), (3, 'fear'), (4, 'joy'), (5, 'love')]\n"
     ]
    }
   ],
   "source": [
    "x=enumerate(classes)\n",
    "print(list(x))"
   ]
  },
  {
   "cell_type": "markdown",
   "id": "c2c146c2",
   "metadata": {},
   "source": [
    "#### Creating classes to index dictionary"
   ]
  },
  {
   "cell_type": "code",
   "execution_count": 32,
   "id": "cc87e542",
   "metadata": {
    "colab": {},
    "colab_type": "code",
    "id": "dNLF6rXL5ejN"
   },
   "outputs": [],
   "source": [
    "# enumerate() function is applied on dictionary classes which returns a tuple format (i,c)\n",
    "# where 'i' means index/numeric value and 'c' means class name\n",
    "# So we applied a for loop to iterate over all these tuples and make them as dictionary(c,i) with key as 'c' and values as 'i'\n",
    "# key as 'c' and values as 'i'.So, named it as classes_to_index\n",
    "classes_to_index = dict((c, i) for i, c in enumerate(classes))"
   ]
  },
  {
   "cell_type": "code",
   "execution_count": 33,
   "id": "5b07160b",
   "metadata": {
    "colab": {
     "base_uri": "https://localhost:8080/",
     "height": 34
    },
    "colab_type": "code",
    "id": "_08InVyM5ejc",
    "outputId": "fd4b044c-0e32-4c45-86b3-9b9cac4458d1"
   },
   "outputs": [
    {
     "data": {
      "text/plain": [
       "{'anger': 0, 'surprise': 1, 'sadness': 2, 'fear': 3, 'joy': 4, 'love': 5}"
      ]
     },
     "execution_count": 33,
     "metadata": {},
     "output_type": "execute_result"
    }
   ],
   "source": [
    "# Displaying classes_to_index dictionary\n",
    "classes_to_index"
   ]
  },
  {
   "cell_type": "code",
   "execution_count": 34,
   "id": "8e692bee",
   "metadata": {},
   "outputs": [
    {
     "data": {
      "text/plain": [
       "dict_items([('anger', 0), ('surprise', 1), ('sadness', 2), ('fear', 3), ('joy', 4), ('love', 5)])"
      ]
     },
     "execution_count": 34,
     "metadata": {},
     "output_type": "execute_result"
    }
   ],
   "source": [
    "#items( ) method is used to grab all the items(also known as key-value pairs) in the dictionary \n",
    "#and the output will be all the key-value pairs paired in tuples format.\n",
    "classes_to_index.items()"
   ]
  },
  {
   "cell_type": "markdown",
   "id": "f5a0aca4",
   "metadata": {},
   "source": [
    "#### Creating index to classes dictionary"
   ]
  },
  {
   "cell_type": "code",
   "execution_count": 35,
   "id": "a8ea377b",
   "metadata": {},
   "outputs": [],
   "source": [
    "# We applied items() method on classes_to_index dictionary to get all key-value pairs (classes:numeric) in tuple format\n",
    "# We applied a for loop on this tuple format to again make them as a dictionary but here key as 'i' and value as 'c'\n",
    "# key as 'i' and value as 'c'.So, named it as index_to_classes\n",
    "index_to_classes = dict((i,c) for c,i in classes_to_index.items())"
   ]
  },
  {
   "cell_type": "code",
   "execution_count": 36,
   "id": "a903d2e4",
   "metadata": {},
   "outputs": [
    {
     "data": {
      "text/plain": [
       "{0: 'anger', 1: 'surprise', 2: 'sadness', 3: 'fear', 4: 'joy', 5: 'love'}"
      ]
     },
     "execution_count": 36,
     "metadata": {},
     "output_type": "execute_result"
    }
   ],
   "source": [
    "# Displaying index_to_classes dictionary\n",
    "index_to_classes"
   ]
  },
  {
   "cell_type": "code",
   "execution_count": 37,
   "id": "b7e1b737",
   "metadata": {},
   "outputs": [
    {
     "data": {
      "text/plain": [
       "4"
      ]
     },
     "execution_count": 37,
     "metadata": {},
     "output_type": "execute_result"
    }
   ],
   "source": [
    "# If we use get() method on a dictionary and pass a key we will get the value corresponding to that key\n",
    "classes_to_index.get('joy')"
   ]
  },
  {
   "cell_type": "markdown",
   "id": "497d1377",
   "metadata": {},
   "source": [
    "#### Converting text labels to numeric labels "
   ]
  },
  {
   "cell_type": "code",
   "execution_count": 38,
   "id": "dec966cf",
   "metadata": {
    "colab": {},
    "colab_type": "code",
    "id": "Jq0WJYsP5ejR"
   },
   "outputs": [],
   "source": [
    "# labels contain classes(all emotions joy,surprise,love,...)\n",
    "# We applied a for loop and iterate over every class in labels\n",
    "# These iterated classes/objects are passed as keys in get() method applied on classes_to_index dict where classes are keys\n",
    "# When we pass these classes(as keys) in get() applied on a dict,we will get corresponding numeric(as values) of that key as output\n",
    "# These numeric values are then formed into a nd-array using np.array() method [numpy arrays]\n",
    "# Lambda functon is created to get these nd-array values(classes converted to numeric values)\n",
    "names_to_ids = lambda labels: np.array([classes_to_index.get(x) for x in labels])"
   ]
  },
  {
   "cell_type": "markdown",
   "id": "fc26d917",
   "metadata": {},
   "source": [
    "#### <u>LAMBDA FUNCTONS:-</u> \n",
    "- **Python Lambda Functions are anonymous function means that the function is without a name. As we already know that the def keyword is used to define a normal function in Python. Similarly, the lambda keyword is used to define an anonymous function in Python.** \n",
    "- **Syntax:- lambda arguments: expression**"
   ]
  },
  {
   "cell_type": "code",
   "execution_count": 39,
   "id": "7dcfa152",
   "metadata": {
    "colab": {
     "base_uri": "https://localhost:8080/",
     "height": 34
    },
    "colab_type": "code",
    "id": "v15KnrNC5ejW",
    "outputId": "2e5205b7-4cb3-4383-aeb9-0ac81a95092f"
   },
   "outputs": [],
   "source": [
    "# Using names_to_ids function on labels_train to get converted numeric values in form of a nd-array \n",
    "labels_train_num = names_to_ids(labels_train)"
   ]
  },
  {
   "cell_type": "code",
   "execution_count": 40,
   "id": "1cb699d9",
   "metadata": {},
   "outputs": [
    {
     "name": "stdout",
     "output_type": "stream",
     "text": [
      "2\n"
     ]
    }
   ],
   "source": [
    "#Displaying 0th element of labels_train_num to check if it is correct\n",
    "#Previously when we printed 0th index element of labels_train we got 'sadness'\n",
    "#So after converting classes(labels_train) to numeric(in labels_train_num).We should get corresponding numeric value of 'sadness'\n",
    "#Corresponding value of 'sadness' is '5'. {0: 'fear', 1: 'love', 2: 'joy', 3: 'anger', 4: 'surprise', 5: 'sadness'} \n",
    "print(labels_train_num[0])"
   ]
  },
  {
   "cell_type": "markdown",
   "id": "9470abd5",
   "metadata": {},
   "source": [
    "## 6]Creating the Model\n",
    "- **Step1:-Create a model**\n",
    "- **Step2:-Compile the created model**\n",
    "- **Step3:-The compiled model will later be trained**\n",
    "- **Step4:-Model Evaluation**\n",
    "- **Step5:-Model Prediction**"
   ]
  },
  {
   "cell_type": "markdown",
   "id": "10bb926f",
   "metadata": {},
   "source": [
    "#### Creating the model "
   ]
  },
  {
   "cell_type": "code",
   "execution_count": 41,
   "id": "30571a1d",
   "metadata": {
    "colab": {
     "base_uri": "https://localhost:8080/",
     "height": 286
    },
    "colab_type": "code",
    "id": "OpewXxPQ5eji",
    "outputId": "b0c61e65-fb96-4f58-aa5b-94dfaadd0b3c"
   },
   "outputs": [],
   "source": [
    "#Sequential() class is used to create a sequential model 'model_created'\n",
    "#A list of layers are passed inside Sequential() class to create a sequential model 'model_created'\n",
    "model_created = tf.keras.models.Sequential([\n",
    "    #Embedding layer with inp_dim=10000,output_dim=16 and input_length/max length of sequence=50\n",
    "    tf.keras.layers.Embedding(10000, 16, input_length=50),\n",
    "    #Bi-directional LSTM Layer which gives output for every time step as return_sequences=True\n",
    "    tf.keras.layers.Bidirectional(tf.keras.layers.LSTM(20, return_sequences=True)),\n",
    "    #Ouput from previous Bi-directional LSTM Layer is fed to this LSTM Layer \n",
    "    tf.keras.layers.Bidirectional(tf.keras.layers.LSTM(20)),\n",
    "    #Dense Layer to change the dimensions of output \n",
    "    #to make it easy for model to define relationship b/w values of data the model is working on\n",
    "    #Output size specified as 6 dimensions and activation function as 'softmax'\n",
    "    #As this is a multi class classification problem, it is best to use 'softmax' as activation function\n",
    "    #We need only six classes(Emotions:-joy,love,surprise,...).So reduce dimensions to six\n",
    "    tf.keras.layers.Dense(6, activation='softmax')\n",
    "])"
   ]
  },
  {
   "cell_type": "markdown",
   "id": "b6239200",
   "metadata": {},
   "source": [
    "#### Compiling the model"
   ]
  },
  {
   "cell_type": "code",
   "execution_count": 42,
   "id": "fcff766d",
   "metadata": {},
   "outputs": [],
   "source": [
    "#compile() method of keras is used to compile the already created model 'model_created'\n",
    "model_created.compile(\n",
    "    #compile() method has 3 main arguments loss,optimizer and metrics\n",
    "    #As there is no one-hot encoded data it is better to use 'sparse_categorical_crossentropy'\n",
    "    loss='sparse_categorical_crossentropy',\n",
    "    #'adam' optimizer is best for sparse and noisy data\n",
    "    optimizer='adam',\n",
    "    metrics=['accuracy']\n",
    ")"
   ]
  },
  {
   "cell_type": "markdown",
   "id": "568a3d02",
   "metadata": {},
   "source": [
    "**compile() method has 3 main arguments:-** \n",
    "- **loss:-Loss function is used to find error or deviation in the learning process.** \n",
    "    - **Keras requires loss function during model compilation process**\n",
    "    - **Examples of loss functions:-** mean_squared_error,mean_absolute_error,mean_absolute_percentage_error\n",
    "        categorical_crossentropy,sparse_categorical_crossentropy,etc.,\n",
    "- **optimizer:-It is used to optimize the input weights by comparing the prediction and the loss function**\n",
    "    - **Examples of optimizers:-** SGD(Stochastic Gradient Descent),RMSprop,Adagrad,adam,etc.,\n",
    "- **metrics:-Metrics is used to evaluate the performance of your model. It is similar to loss function, but not used in training process**\n",
    "    - **Few metrics are:-** accuracy,binary_accuracy,categorical_accuracy,sparse_categorical_accuracy\n",
    "        sparse_top_k_categorical_accuracy,cosine_proximity,clone_metric,etc.,"
   ]
  },
  {
   "cell_type": "markdown",
   "id": "237a8de0",
   "metadata": {},
   "source": [
    "#### Model Summary "
   ]
  },
  {
   "cell_type": "code",
   "execution_count": 43,
   "id": "38413757",
   "metadata": {},
   "outputs": [
    {
     "name": "stdout",
     "output_type": "stream",
     "text": [
      "Model: \"sequential\"\n",
      "_________________________________________________________________\n",
      " Layer (type)                Output Shape              Param #   \n",
      "=================================================================\n",
      " embedding (Embedding)       (None, 50, 16)            160000    \n",
      "                                                                 \n",
      " bidirectional (Bidirectiona  (None, 50, 40)           5920      \n",
      " l)                                                              \n",
      "                                                                 \n",
      " bidirectional_1 (Bidirectio  (None, 40)               9760      \n",
      " nal)                                                            \n",
      "                                                                 \n",
      " dense (Dense)               (None, 6)                 246       \n",
      "                                                                 \n",
      "=================================================================\n",
      "Total params: 175,926\n",
      "Trainable params: 175,926\n",
      "Non-trainable params: 0\n",
      "_________________________________________________________________\n"
     ]
    }
   ],
   "source": [
    "#Displaying summary of the model 'model_created'\n",
    "model_created.summary()"
   ]
  },
  {
   "cell_type": "markdown",
   "id": "7cf5dcf7",
   "metadata": {},
   "source": [
    "**<u>Observations from the above summary:-</u>**\n",
    "- **We have one embedding layer,two bi-directional LSTM layers and one dense layer in the model**\n",
    "- **The first bidirectional LSTM layer has output shape(None,50,40) which means it is giving output of all sequences not only the last sequence**"
   ]
  },
  {
   "cell_type": "markdown",
   "id": "6adf7ec4",
   "metadata": {},
   "source": [
    "## 7]Training the Model"
   ]
  },
  {
   "cell_type": "markdown",
   "id": "8ebfbdc6",
   "metadata": {},
   "source": [
    "#### Preparing a validation set "
   ]
  },
  {
   "cell_type": "code",
   "execution_count": 44,
   "id": "155075c2",
   "metadata": {
    "colab": {},
    "colab_type": "code",
    "id": "Ff7F3hCK5ejm"
   },
   "outputs": [],
   "source": [
    "#Accesing features 'text' and 'label' to objects tweets_val and labels_val respectively from val_set\n",
    "tweets_val, labels_val = get_tweets(val_set)\n",
    "#Using created function 'get_sequences' to get padded sequences from 'tweets_val'\n",
    "padded_val_seq = get_sequences(tweets_val)\n",
    "# Using names_to_ids function on labels_val to get converted numeric values of classes/labels in form of a nd-array \n",
    "labels_val_num = names_to_ids(labels_val)"
   ]
  },
  {
   "cell_type": "code",
   "execution_count": 45,
   "id": "8766d18e",
   "metadata": {
    "colab": {
     "base_uri": "https://localhost:8080/",
     "height": 34
    },
    "colab_type": "code",
    "id": "hlMKaZ3H5ejr",
    "outputId": "c37c302d-489c-49a3-cec3-8b27e2aaaffc"
   },
   "outputs": [
    {
     "data": {
      "text/plain": [
       "('im feeling quite sad and sorry for myself but ill snap out of it soon',\n",
       " 'sadness',\n",
       " 2)"
      ]
     },
     "execution_count": 45,
     "metadata": {},
     "output_type": "execute_result"
    }
   ],
   "source": [
    "#displaying 0th index tweet of validation set 'tweets_val' , class/label labels_val\n",
    "#with its class/label(convertednumeric value of emotion) 'labels_val_num'\n",
    "tweets_val[0], labels_val[0], labels_val_num[0]"
   ]
  },
  {
   "cell_type": "markdown",
   "id": "0276c0fd",
   "metadata": {},
   "source": [
    "#### Training the model"
   ]
  },
  {
   "cell_type": "code",
   "execution_count": 46,
   "id": "481e96b5",
   "metadata": {},
   "outputs": [],
   "source": [
    "#Normally we split the dataset using split() method in to X_train,y_train,X_test and y_test to train and evaluate the model\n",
    "#But the given dataset already is divided into train,val,test sets from the starting.\n",
    "#So we can already use the data "
   ]
  },
  {
   "cell_type": "code",
   "execution_count": 47,
   "id": "3b5c4d4d",
   "metadata": {
    "colab": {
     "base_uri": "https://localhost:8080/",
     "height": 454
    },
    "colab_type": "code",
    "id": "bzBqnWQ-5ejw",
    "outputId": "499ededc-0e2e-4f06-d59a-15350da7da31"
   },
   "outputs": [
    {
     "name": "stdout",
     "output_type": "stream",
     "text": [
      "Epoch 1/20\n",
      "500/500 [==============================] - 44s 63ms/step - loss: 1.3056 - accuracy: 0.4853 - val_loss: 0.7612 - val_accuracy: 0.7220\n",
      "Epoch 2/20\n",
      "500/500 [==============================] - 29s 58ms/step - loss: 0.5482 - accuracy: 0.8066 - val_loss: 0.6400 - val_accuracy: 0.7925\n",
      "Epoch 3/20\n",
      "500/500 [==============================] - 27s 55ms/step - loss: 0.2694 - accuracy: 0.9148 - val_loss: 0.4056 - val_accuracy: 0.8745\n",
      "Epoch 4/20\n",
      "500/500 [==============================] - 28s 56ms/step - loss: 0.1568 - accuracy: 0.9498 - val_loss: 0.3818 - val_accuracy: 0.8830\n",
      "Epoch 5/20\n",
      "500/500 [==============================] - 28s 56ms/step - loss: 0.1283 - accuracy: 0.9606 - val_loss: 0.3670 - val_accuracy: 0.8860\n",
      "Epoch 6/20\n",
      "500/500 [==============================] - 28s 55ms/step - loss: 0.1016 - accuracy: 0.9682 - val_loss: 0.5103 - val_accuracy: 0.8745\n",
      "Epoch 7/20\n",
      "500/500 [==============================] - 31s 62ms/step - loss: 0.0963 - accuracy: 0.9713 - val_loss: 0.3429 - val_accuracy: 0.8955\n",
      "Epoch 8/20\n",
      "500/500 [==============================] - 28s 56ms/step - loss: 0.0721 - accuracy: 0.9759 - val_loss: 0.3743 - val_accuracy: 0.8985\n",
      "Epoch 9/20\n",
      "500/500 [==============================] - 28s 57ms/step - loss: 0.0621 - accuracy: 0.9805 - val_loss: 0.3812 - val_accuracy: 0.9045\n",
      "Epoch 10/20\n",
      "500/500 [==============================] - 27s 54ms/step - loss: 0.0524 - accuracy: 0.9837 - val_loss: 0.3989 - val_accuracy: 0.9000\n",
      "Epoch 11/20\n",
      "500/500 [==============================] - 27s 54ms/step - loss: 0.0424 - accuracy: 0.9862 - val_loss: 0.4407 - val_accuracy: 0.8915\n"
     ]
    }
   ],
   "source": [
    "#training the model using fit()\n",
    "model_trained = model_created.fit(\n",
    "    #Training the model using train set's padded sequences and converted numeric values of labels/classes\n",
    "    # X_train=padded_train_seq and y_train=labels_train_num\n",
    "    padded_train_seq,labels_train_num,\n",
    "    #Validation set used to tune the parameters of a classifier(number of hidden units,epochs,etc,.) in a neural network.\n",
    "    # X_val=padded_val_seq and y_val=labels_val_num\n",
    "    validation_data=(padded_val_seq,labels_val_num),\n",
    "    #Number of epochs to run=20\n",
    "    epochs=20,\n",
    "    #callbacks specified with monitor='val_accuracy' and patience=2 \n",
    "    # It means if there is no improvement in val_accuracy for continuous 2 epochs then the training of model will be stopped \n",
    "    # even before 20 epochs completed \n",
    "    callbacks=[\n",
    "        tf.keras.callbacks.EarlyStopping(monitor='val_accuracy', patience=2)\n",
    "    ]\n",
    ")"
   ]
  },
  {
   "cell_type": "markdown",
   "id": "59b712ce",
   "metadata": {},
   "source": [
    "- **Accuracy on train set:97.72%**\n",
    "- **Validation accuracy or accuracy on validation set:87.05%**"
   ]
  },
  {
   "cell_type": "markdown",
   "id": "ee9f7380",
   "metadata": {},
   "source": [
    "**From the above observation of epochs:-**\n",
    "- **The val_accuracy of 11th,12th,13th epochs are 0.8955,0.8905,0.8900 respectively**\n",
    "- **The val_accuracy is not improving for continuous two epochs(patience=2) in 12th and 13th epochs but decreasing after 11th epoch**\n",
    "    - **So the model training stopped after 13th epoch.**"
   ]
  },
  {
   "cell_type": "markdown",
   "id": "56c92644",
   "metadata": {},
   "source": [
    "## 8]Evaluating the Model"
   ]
  },
  {
   "cell_type": "markdown",
   "id": "1aa36bff",
   "metadata": {},
   "source": [
    "#### Visualizing training history"
   ]
  },
  {
   "cell_type": "code",
   "execution_count": 48,
   "id": "aca9068b",
   "metadata": {},
   "outputs": [],
   "source": [
    "# We created a function show_history to calculate accuracy,validation accuracy of model came after training from TensorFlow\n",
    "def show_history(h):\n",
    "    epochs_trained = len(h.history['loss'])\n",
    "    plt.figure(figsize=(16, 6))\n",
    "\n",
    "    plt.subplot(1, 2, 1)\n",
    "    plt.plot(range(0, epochs_trained), h.history.get('accuracy'), label='Training')\n",
    "    plt.plot(range(0, epochs_trained), h.history.get('val_accuracy'), label='Validation')\n",
    "    plt.ylim([0., 1.])\n",
    "    plt.xlabel('Epochs')\n",
    "    plt.ylabel('Accuracy')\n",
    "    plt.legend()\n",
    "\n",
    "    plt.subplot(1, 2, 2)\n",
    "    plt.plot(range(0, epochs_trained), h.history.get('loss'), label='Training')\n",
    "    plt.plot(range(0, epochs_trained), h.history.get('val_loss'), label='Validation')\n",
    "    plt.xlabel('Epochs')\n",
    "    plt.ylabel('Loss')\n",
    "    plt.legend()\n",
    "    plt.show()"
   ]
  },
  {
   "cell_type": "code",
   "execution_count": 49,
   "id": "d059246f",
   "metadata": {},
   "outputs": [
    {
     "data": {
      "image/png": "[encoded data removed]",
      "text/plain": [
       "<Figure size 1152x432 with 2 Axes>"
      ]
     },
     "metadata": {
      "needs_background": "light"
     },
     "output_type": "display_data"
    }
   ],
   "source": [
    "#Visualizing training history. Accuracy and loss of training and validation sets using the created function show_history\n",
    "show_history(model_trained)"
   ]
  },
  {
   "cell_type": "markdown",
   "id": "4099dd01",
   "metadata": {},
   "source": [
    "#### Prepraring a test set"
   ]
  },
  {
   "cell_type": "code",
   "execution_count": 50,
   "id": "b393ef3c",
   "metadata": {},
   "outputs": [],
   "source": [
    "#Accesing features 'text' and 'label' to objects tweets_test and labels_test respectively from test_set\n",
    "tweets_test, labels_test = get_tweets(test_set)\n",
    "#Using created function 'get_sequences' to get padded sequences from 'tweets_test'\n",
    "padded_test_seq = get_sequences(tweets_test)\n",
    "# Using names_to_ids function on labels_test to get converted numeric values of classes/labels in form of a nd-array \n",
    "labels_test_num = names_to_ids(labels_test)"
   ]
  },
  {
   "cell_type": "markdown",
   "id": "216e2227",
   "metadata": {},
   "source": [
    "**Model Evaluation:-**\n",
    "- **Evaluation is the process to check whether the created model is fit for the given problem**\n",
    "- **test data X_test and test data label y_test are the two arguments used in evaluate( ) method.**"
   ]
  },
  {
   "cell_type": "markdown",
   "id": "8077d396",
   "metadata": {},
   "source": [
    "#### Evaluating created model using evaluate()"
   ]
  },
  {
   "cell_type": "code",
   "execution_count": 51,
   "id": "50d1ec9f",
   "metadata": {},
   "outputs": [
    {
     "name": "stdout",
     "output_type": "stream",
     "text": [
      "63/63 [==============================] - 1s 18ms/step - loss: 0.4566 - accuracy: 0.8790\n"
     ]
    }
   ],
   "source": [
    "#Using evaluate() method to evaluate the created model \n",
    "_ = model_created.evaluate(padded_test_seq, labels_test_num)"
   ]
  },
  {
   "cell_type": "markdown",
   "id": "eb2b41b4",
   "metadata": {},
   "source": [
    "#### A look at random individual predictions on the test set "
   ]
  },
  {
   "cell_type": "code",
   "execution_count": 58,
   "id": "2cdd03cf",
   "metadata": {
    "colab": {
     "base_uri": "https://localhost:8080/",
     "height": 67
    },
    "colab_type": "code",
    "id": "rh638vHG5ej6",
    "outputId": "feb44736-ee6e-477e-d24a-a2fad5ebaf62"
   },
   "outputs": [
    {
     "name": "stdout",
     "output_type": "stream",
     "text": [
      "Tweet Sentence: i feel just an on going dull pain for a fews hours or a day in my chest\n",
      "Emotion: sadness\n",
      "1/1 [==============================] - 0s 33ms/step\n",
      "Predicted Emotion: sadness\n"
     ]
    }
   ],
   "source": [
    "#'i' is the index of the tweet randomly selected from total no,of tweets(0 to length of test set-1)\n",
    "#randint is inbuilt function of random module which is used to generate random numbers\n",
    "#As randint from random module use on total no.of tweets.It selects a random tweet which is stored in index 'i'\n",
    "i = random.randint(0, len(labels_test_num) - 1)\n",
    "\n",
    "#Printing tweet from test set of the above grabbed random index [i]\n",
    "print('Tweet Sentence:', tweets_test[i])\n",
    "\n",
    "#Printing label(class) in words from test set of the above grabbed random index [i]\n",
    "#labels_test_num[i] gives a converted numeric value of label(class)\n",
    "#When this converted numeric value of class is used as key on 'index_to_classes' dictionary,it will return the label(class) in words\n",
    "print('Emotion:', index_to_classes[labels_test_num[i]])\n",
    "\n",
    "#Predict class of padded sequence of test set with random index[i]\n",
    "p = model_created.predict(np.expand_dims(padded_test_seq[i], axis=0))[0]\n",
    "\n",
    "#The above prediction 'p' is converted into integer using \"np.argmax(p).astype('uint8')\"\n",
    "#Then 'p' which is now in integer form of converted numeric value of label(class) is used as a key on 'index_to_classes'\n",
    "#to get label(class/emotion) in words format\n",
    "pred_class=index_to_classes[np.argmax(p).astype('uint8')]\n",
    "\n",
    "#Printing the prediction of class from the above prediction\n",
    "print('Predicted Emotion:', pred_class)"
   ]
  },
  {
   "cell_type": "code",
   "execution_count": 81,
   "id": "45845a58",
   "metadata": {},
   "outputs": [
    {
     "data": {
      "text/plain": [
       "array([9.3898316e-06, 4.3312141e-07, 3.7293011e-04, 8.6598029e-06,\n",
       "       9.9957925e-01, 2.9360343e-05], dtype=float32)"
      ]
     },
     "execution_count": 81,
     "metadata": {},
     "output_type": "execute_result"
    }
   ],
   "source": [
    "#prediction 'p' is not in form of array of integers but in float(decimals).So convert to integers using \"np.argmax(p).astype('uint8')\" \n",
    "p"
   ]
  },
  {
   "cell_type": "code",
   "execution_count": 83,
   "id": "c8929c0b",
   "metadata": {},
   "outputs": [
    {
     "data": {
      "text/plain": [
       "4"
      ]
     },
     "execution_count": 83,
     "metadata": {},
     "output_type": "execute_result"
    }
   ],
   "source": [
    "#'p' is converted into integer using \"np.argmax(p).astype('uint8')\"\n",
    "#The converted integer is nothing but converted numeric value of labels(class)\n",
    "#Here 4 means label(class) joy\n",
    "np.argmax(p).astype('uint8')"
   ]
  },
  {
   "cell_type": "markdown",
   "id": "775e2996",
   "metadata": {},
   "source": [
    "**Model Prediction:-**\n",
    "- **It is the final step to get predicted results from the generated model.**\n",
    "- **Keras provides predict( ) method to get the predictions of the trained model**\n",
    "- **Predictions are made using 'test data'(X_test) to produce 'predicted test data labels'(y_pred)**\n",
    "- **SYNTAX OF predict() METHOD:-**\n",
    "    - **CLASSIFICATION PROBLEMS:-**\n",
    "        - **MULTICLASS CLASSIFICATION:-** np.argmax(model.predict(X_test), axis=-1)\n",
    "        - **BINARY CLASSIFICATION:-** (model.predict(X_test) > 0.5).astype(\"int32\")\n",
    "    - **REGRESSION PROBLEMS:-** model.predict(X_test)"
   ]
  },
  {
   "cell_type": "markdown",
   "id": "5bc75d4a",
   "metadata": {},
   "source": [
    "#### All predictions on the test set"
   ]
  },
  {
   "cell_type": "code",
   "execution_count": 67,
   "id": "07aca028",
   "metadata": {},
   "outputs": [
    {
     "name": "stdout",
     "output_type": "stream",
     "text": [
      "63/63 [==============================] - 1s 18ms/step\n"
     ]
    },
    {
     "data": {
      "text/plain": [
       "((2000,), (2000,))"
      ]
     },
     "execution_count": 67,
     "metadata": {},
     "output_type": "execute_result"
    }
   ],
   "source": [
    "#Using predict() to get predicted data\n",
    "#Here 'test data' X_test=padded_test_seq and the 'test data label prediction' y_pred=labels_predicted\n",
    "labels_predicted = np.argmax(model_created.predict(padded_test_seq), axis=-1)\n",
    "\n",
    "#Shape of \n",
    "labels_predicted.shape, labels_test_num.shape"
   ]
  },
  {
   "cell_type": "code",
   "execution_count": 68,
   "id": "7e74f5d8",
   "metadata": {},
   "outputs": [],
   "source": [
    "# We created function show_confusion_matrix to calculate and plot confusion matrix  \n",
    "def show_confusion_matrix(y_test, y_pred, classes):\n",
    "    from sklearn.metrics import confusion_matrix\n",
    "    \n",
    "    cm = confusion_matrix(y_test, y_pred, normalize='true')\n",
    "\n",
    "    plt.figure(figsize=(8, 8))\n",
    "    sp = plt.subplot(1, 1, 1)\n",
    "    ctx = sp.matshow(cm)\n",
    "    plt.xticks(list(range(0, 6)), labels=classes)\n",
    "    plt.yticks(list(range(0, 6)), labels=classes)\n",
    "    plt.colorbar(ctx)\n",
    "    plt.show()"
   ]
  },
  {
   "cell_type": "markdown",
   "id": "c8aec36f",
   "metadata": {},
   "source": [
    "### Confusion Matrix"
   ]
  },
  {
   "cell_type": "code",
   "execution_count": 69,
   "id": "6f23456f",
   "metadata": {},
   "outputs": [
    {
     "data": {
      "image/png": "[encoded data removed]",
      "text/plain": [
       "<Figure size 576x576 with 2 Axes>"
      ]
     },
     "metadata": {
      "needs_background": "light"
     },
     "output_type": "display_data"
    }
   ],
   "source": [
    "#Displaying confusion matrix using the created function show_confusion_matrix\n",
    "#Here y_test=labels_test_num and y_pred=labels_predicted\n",
    "show_confusion_matrix(labels_test_num, labels_predicted, list(classes))"
   ]
  },
  {
   "cell_type": "markdown",
   "id": "725a76f7",
   "metadata": {},
   "source": [
    "### Classification report"
   ]
  },
  {
   "cell_type": "code",
   "execution_count": 70,
   "id": "46672545",
   "metadata": {},
   "outputs": [],
   "source": [
    "#importing classification_report and confusion_report from sklearn.metrics\n",
    "from sklearn.metrics import classification_report, confusion_matrix"
   ]
  },
  {
   "cell_type": "code",
   "execution_count": 71,
   "id": "eec988e0",
   "metadata": {},
   "outputs": [
    {
     "name": "stdout",
     "output_type": "stream",
     "text": [
      "              precision    recall  f1-score   support\n",
      "\n",
      "           0       0.85      0.87      0.86       275\n",
      "           1       0.60      0.71      0.65        66\n",
      "           2       0.95      0.91      0.93       581\n",
      "           3       0.90      0.79      0.84       224\n",
      "           4       0.89      0.93      0.91       695\n",
      "           5       0.73      0.79      0.76       159\n",
      "\n",
      "    accuracy                           0.88      2000\n",
      "   macro avg       0.82      0.83      0.82      2000\n",
      "weighted avg       0.88      0.88      0.88      2000\n",
      "\n"
     ]
    }
   ],
   "source": [
    "#Classification report for labels_test(y_test which is a True class) and labels_predicted(y_pred which are Predictions)\n",
    "#Here y_test=labels_test_num and y_pred=labels_predicted\n",
    "print(classification_report(labels_test_num,labels_predicted))"
   ]
  },
  {
   "cell_type": "code",
   "execution_count": null,
   "id": "9430365e",
   "metadata": {},
   "outputs": [],
   "source": []
  }
 ],
 "metadata": {
  "kernelspec": {
   "display_name": "Python 3 (ipykernel)",
   "language": "python",
   "name": "python3"
  },
  "language_info": {
   "codemirror_mode": {
    "name": "ipython",
    "version": 3
   },
   "file_extension": ".py",
   "mimetype": "text/x-python",
   "name": "python",
   "nbconvert_exporter": "python",
   "pygments_lexer": "ipython3",
   "version": "3.9.12"
  }
 },
 "nbformat": 4,
 "nbformat_minor": 5
}
